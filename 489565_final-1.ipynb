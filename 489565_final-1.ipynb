{
 "cells": [
  {
   "cell_type": "code",
   "execution_count": 1,
   "metadata": {
    "deletable": false,
    "editable": false,
    "nbgrader": {
     "cell_type": "code",
     "checksum": "0cb113c2a251b353cf80fef8096aaf5c",
     "grade": false,
     "grade_id": "cell-a6370b714a5d4200",
     "locked": true,
     "schema_version": 3,
     "solution": false,
     "task": false
    }
   },
   "outputs": [],
   "source": [
    "import pandas as pd\n",
    "import numpy as np\n",
    "import datetime\n",
    "import pandas as pd"
   ]
  },
  {
   "cell_type": "markdown",
   "metadata": {
    "deletable": false,
    "editable": false,
    "nbgrader": {
     "cell_type": "markdown",
     "checksum": "9d3b6bf9bc6c0ee621218802f683785e",
     "grade": false,
     "grade_id": "cell-ecadebfb0881c771",
     "locked": true,
     "schema_version": 3,
     "solution": false,
     "task": false
    }
   },
   "source": [
    "In this final, you will be asked to analyze a data set containing historical reservations for a fine-dining restaurant that is stored in the file \"data/Reservation_Data.csv\".  This restaurant only accepts reservations booked online and hence does not accept walk in customers.   Each row in this data corresponds to a booked reservation.  The columns have the following meaning:\n",
    "- reservation\\_date: The date that the reservation was booked for. In other words, this is the date when the customer will dine.\n",
    "- reservation\\_time: The time that the reservation was booked for.\n",
    "- reservation\\_party\\_size: The size of the party for the corresponding reservation, i.e. the number of diners.\n",
    "- reservation_date_booked: the date on which the reservation was made.\n",
    "- datetime\\_booked: The date and time corresponding to when the reservation was made (in UTC). This column has missing values, which have been entered as \"#N/A\".  **The restaurant is located in a Pacific time zone.**\n",
    "\n",
    "Your goal in this final will be to undertand how customers schedule reservations at this restaurant.\n"
   ]
  },
  {
   "cell_type": "markdown",
   "metadata": {
    "deletable": false,
    "editable": false,
    "nbgrader": {
     "cell_type": "markdown",
     "checksum": "8d35016b3a726056f92c4f265d14f48b",
     "grade": false,
     "grade_id": "cell-8b34c1110615ced2",
     "locked": true,
     "schema_version": 3,
     "solution": false,
     "task": false
    }
   },
   "source": [
    "# Part 1 \n",
    "\n",
    "Your first task is to read in the data and do the following:\n",
    "\n",
    "- delete rows with missing values\n",
    "- convert datetime_booked to a datetime column with Pacific time zone\n",
    "- combine reservation_date and reservation time to create a new column called reservation_datetime that is a datetime column that has a Pacific time zone. So the final dataframe you return should have 6 columns in total.\n",
    "- Only keep reservations made at the following 8 time slots: 17:30, 17:45, 18:00, 18:15, 20:45, 21:00, 21:15, 21:30\n",
    "\n",
    "Return this modified version of the original data frame."
   ]
  },
  {
   "cell_type": "code",
   "execution_count": 2,
   "metadata": {
    "deletable": false,
    "nbgrader": {
     "cell_type": "code",
     "checksum": "121a9292908242362192baf4f6e9ea1e",
     "grade": false,
     "grade_id": "cell-f8e2796977445ec2",
     "locked": false,
     "schema_version": 3,
     "solution": true,
     "task": false
    }
   },
   "outputs": [],
   "source": [
    "def Read_Data():\n",
    "    \n",
    "    df_res = pd.read_csv(\"data/Reservation_Data.csv\", na_values=[\"#N/A\"])\n",
    "    df_res = df_res.dropna(axis=0)\n",
    "    df_res.datetime_booked=pd.to_datetime(df_res.datetime_booked)#-pd.Timedelta(hours=8)\n",
    "    df_res.datetime_booked=df_res.datetime_booked.dt.tz_localize(\"GMT\").dt.tz_convert\\\n",
    "    (\"America/Los_Angeles\").dt.tz_localize(None)\n",
    "    df_res[\"reservation_datetime\"]=pd.to_datetime(df_res[\"reservation_date\"]+ \" \"+df_res[\"reservation_time\"])\n",
    "\n",
    "\n",
    "    time_slots=[\"17:30\",\"17:45\",\"18:00\",\"18:15\",\"20:45\",\"21:00\",\"21:15\",\"21:30\"]\n",
    "    time_index=df_res.reservation_datetime.apply(lambda x: x.strftime(\"%H:%M\") in time_slots)\n",
    "    df_res_new=df_res.loc[time_index,]\n",
    "    df_res_new\n",
    "    return df_res_new\n"
   ]
  },
  {
   "cell_type": "code",
   "execution_count": 3,
   "metadata": {
    "deletable": false,
    "editable": false,
    "nbgrader": {
     "cell_type": "code",
     "checksum": "3152a904200f0adb536d6e52593cb3da",
     "grade": true,
     "grade_id": "cell-8e06ac956a3298b6",
     "locked": true,
     "points": 1,
     "schema_version": 3,
     "solution": false,
     "task": false
    }
   },
   "outputs": [],
   "source": [
    "df_res = Read_Data()\n",
    "assert df_res.shape==(3359,6)"
   ]
  },
  {
   "cell_type": "code",
   "execution_count": 4,
   "metadata": {
    "deletable": false,
    "editable": false,
    "nbgrader": {
     "cell_type": "code",
     "checksum": "dffad11bbc7e4d6c004ccf294f44d66f",
     "grade": true,
     "grade_id": "cell-6f9b424e23bb76f3",
     "locked": true,
     "points": 2,
     "schema_version": 3,
     "solution": false,
     "task": false
    }
   },
   "outputs": [],
   "source": [
    "assert np.isclose(df_res.datetime_booked.dt.hour.mean(), 13.55969)"
   ]
  },
  {
   "cell_type": "markdown",
   "metadata": {
    "deletable": false,
    "editable": false,
    "nbgrader": {
     "cell_type": "markdown",
     "checksum": "ec08b7d3b2dee7e919bdab968d971783",
     "grade": false,
     "grade_id": "cell-37198faa3114139a",
     "locked": true,
     "schema_version": 3,
     "solution": false,
     "task": false
    }
   },
   "source": [
    "# Part 2 \n",
    "\n",
    "In this next part, we will write two functions to understand basic patterns in the data.\n",
    "\n",
    "The first function takes as input one of the eight reservation time slots that we are considering as a datetime time and it outputs the day of the week (as a string) with the smallest average party size of all reservation made for the given inputted time slot."
   ]
  },
  {
   "cell_type": "code",
   "execution_count": 5,
   "metadata": {
    "deletable": false,
    "nbgrader": {
     "cell_type": "code",
     "checksum": "c6e9bb6733f7cec19590c84dc051b920",
     "grade": false,
     "grade_id": "cell-6efce2d770d87f09",
     "locked": false,
     "schema_version": 3,
     "solution": true,
     "task": false
    }
   },
   "outputs": [],
   "source": [
    "def Get_Avg_Party_Size(res_time):\n",
    "    \n",
    "    smallest_dow = None\n",
    "    df_res = Read_Data()\n",
    "    df_res=df_res.loc[df_res.reservation_time==str(res_time)]\n",
    "    df_res[\"day_of_week\"]=pd.to_datetime(df_res.reservation_date).dt.day_name()\n",
    "    smallest_dow=df_res.groupby(by=\"day_of_week\").reservation_party_size.mean().idxmin() \n",
    "    \n",
    "    return smallest_dow"
   ]
  },
  {
   "cell_type": "code",
   "execution_count": 6,
   "metadata": {
    "deletable": false,
    "editable": false,
    "nbgrader": {
     "cell_type": "code",
     "checksum": "09f85c4ff99a5a62b03c358cbffd78e2",
     "grade": true,
     "grade_id": "cell-1af2677bc41ad9a8",
     "locked": true,
     "points": 1,
     "schema_version": 3,
     "solution": false,
     "task": false
    }
   },
   "outputs": [],
   "source": [
    "res_time = datetime.time(hour = 17, minute=30)\n",
    "assert Get_Avg_Party_Size(res_time)==\"Sunday\""
   ]
  },
  {
   "cell_type": "code",
   "execution_count": 7,
   "metadata": {
    "deletable": false,
    "editable": false,
    "nbgrader": {
     "cell_type": "code",
     "checksum": "17c254f8d9c35e1e1c336e360e3ac19c",
     "grade": true,
     "grade_id": "cell-a7a73527f473ef9f",
     "locked": true,
     "points": 1,
     "schema_version": 3,
     "solution": false,
     "task": false
    }
   },
   "outputs": [],
   "source": [
    "res_time = datetime.time(hour = 21, minute=0)\n",
    "assert Get_Avg_Party_Size(res_time)==\"Tuesday\""
   ]
  },
  {
   "cell_type": "markdown",
   "metadata": {
    "deletable": false,
    "editable": false,
    "nbgrader": {
     "cell_type": "markdown",
     "checksum": "52e70d46e69272e5d696980a0ca3b19a",
     "grade": false,
     "grade_id": "cell-5d04ed2a8ababbde",
     "locked": true,
     "schema_version": 3,
     "solution": false,
     "task": false
    }
   },
   "source": [
    "The second function I would like you to write takes as input a parameter called num_days (you may assume this is an integer), and it returns the fraction of reservations made by parties size 1/2 that are made at most num_days in advance, and then also the same fraction but just for parties of 3/4.\n",
    "\n",
    "**NOTE: The number of days in advance that a reservation is made is (reservation_datetime - datetime_booked).**"
   ]
  },
  {
   "cell_type": "code",
   "execution_count": 8,
   "metadata": {
    "deletable": false,
    "nbgrader": {
     "cell_type": "code",
     "checksum": "02dfddc53e358244b0439bda762ab4bd",
     "grade": false,
     "grade_id": "cell-9d59746d75cab577",
     "locked": false,
     "schema_version": 3,
     "solution": true,
     "task": false
    }
   },
   "outputs": [],
   "source": [
    "def Booked_in_Advance(num_days):\n",
    "    \n",
    "    df_res = Read_Data()\n",
    "    num_days = datetime.timedelta(days=num_days)\n",
    "    party_one_two = None\n",
    "    party_three_four = None\n",
    "\n",
    "\n",
    "    num_days=num_days.days\n",
    "    df_res[\"days_in_advance\"]=df_res.apply(lambda x: (x[\"reservation_datetime\"]-x[\"datetime_booked\"]).days,axis=1)\n",
    "\n",
    "    #dia<=num_days\n",
    "    #1/2\n",
    "    res_12_index=df_res.reservation_party_size.apply(lambda x: x==1 or x==2)\n",
    "    res_12_all=df_res.loc[res_12_index,]\n",
    "    res_12_required=res_12_all.loc[res_12_all.days_in_advance<=num_days-1]\n",
    "    party_one_two=res_12_required.shape[0]/res_12_all.shape[0]\n",
    "\n",
    "\n",
    "    #3/4\n",
    "    res_34_index=df_res.reservation_party_size.apply(lambda x: x==3 or x==4)\n",
    "    res_34_all=df_res.loc[res_34_index,]\n",
    "    res_34_required=res_34_all.loc[res_34_all.days_in_advance<=num_days-1]\n",
    "    party_three_four=res_34_required.shape[0]/res_34_all.shape[0]\n",
    "\n",
    "\n",
    "    \n",
    "    return party_one_two, party_three_four\n",
    "    "
   ]
  },
  {
   "cell_type": "code",
   "execution_count": 9,
   "metadata": {
    "deletable": false,
    "editable": false,
    "nbgrader": {
     "cell_type": "code",
     "checksum": "3677c9f552092826008a2681f6db3536",
     "grade": true,
     "grade_id": "cell-ee68a7fd2e6f2307",
     "locked": true,
     "points": 2,
     "schema_version": 3,
     "solution": false,
     "task": false
    }
   },
   "outputs": [],
   "source": [
    "result = Booked_in_Advance(7)\n",
    "assert np.isclose(result[0],0.27188)"
   ]
  },
  {
   "cell_type": "code",
   "execution_count": 10,
   "metadata": {
    "deletable": false,
    "editable": false,
    "nbgrader": {
     "cell_type": "code",
     "checksum": "60a421bf1d2941cecbe86047c4107006",
     "grade": true,
     "grade_id": "cell-18cb4b7703e807f2",
     "locked": true,
     "points": 2,
     "schema_version": 3,
     "solution": false,
     "task": false
    }
   },
   "outputs": [],
   "source": [
    "result = Booked_in_Advance(100)\n",
    "assert np.isclose(result[1],0.860534)"
   ]
  },
  {
   "cell_type": "markdown",
   "metadata": {
    "deletable": false,
    "editable": false,
    "nbgrader": {
     "cell_type": "markdown",
     "checksum": "13e49b82321e34b1e53ea89d310db68a",
     "grade": false,
     "grade_id": "cell-717b10921432360b",
     "locked": true,
     "schema_version": 3,
     "solution": false,
     "task": false
    }
   },
   "source": [
    "# Part 3\n",
    "\n",
    "Let's assume that there are two service periods:\n",
    "\n",
    "- Service Period 1 consists of time slots 17:30, 17:45, 18:00, 18:15\n",
    "- Service Period 2 consiss of time slots 20:45, 21:00, 21:15, 21:30\n",
    "\n",
    "The next function takes as input res_time, which is one of the eight times above as a datetime time.  Given the inputted time, you will exclusively focus this analysis on either Service Period 1 or 2. For example, if the inputted res_time is 17:45, you should only consider reservations made during Service Period 1. For each day, find the first reservation that books at res_time (datetime_booked tells you the order in which reservations were scheduled).  Within the given Service Period of interest, compute how many reservations have already been booked for the given day before this reservation for res_time was made.  If $k-1$ reservations have already been made, this means that res_time was first booked as the $k$-th reservation.  We will say the \"rank\" of reservation time res_time on this day was $k$. So, if res_time was the first time booked on a particular day frot he relevant Service Period, its rank on this day is 1.  Return the average rank of res_time across all days in which a reservation for res_time was booked.\n"
   ]
  },
  {
   "cell_type": "code",
   "execution_count": 11,
   "metadata": {
    "deletable": false,
    "nbgrader": {
     "cell_type": "code",
     "checksum": "7c6d59c4acef7f9e26b2fb7cf3afc65d",
     "grade": false,
     "grade_id": "cell-abf0c5d86681721c",
     "locked": false,
     "schema_version": 3,
     "solution": true,
     "task": false
    }
   },
   "outputs": [],
   "source": [
    "def Get_Avg_Rank(res_time):\n",
    "\n",
    "    df_res = Read_Data()\n",
    "    avg_Rank=None\n",
    "\n",
    "    \n",
    "    \n",
    "    str_res_time=res_time.strftime(\"%H:%M\")\n",
    "    slot1=[\"17:30\", \"17:45\", \"18:00\", \"18:15\"]\n",
    "    slot2=[\"20:45\", \"21:00\", \"21:15\", \"21:30\"]\n",
    "\n",
    "    if str_res_time in slot1:\n",
    "        slot=slot1[:]\n",
    "    else:\n",
    "        slot=slot2[:]\n",
    "\n",
    "    df_res[\"str_rtime\"]=df_res.reservation_time.apply(lambda x: str(x)[:-3])\n",
    "    #在slot里的所有记录\n",
    "    str_rtime_index=df_res.reservation_time.apply(lambda x: x in pd.to_datetime(slot).strftime(\"%T\")) \n",
    "    df_res_in_slot=df_res.loc[str_rtime_index,]\n",
    "    #res_time那个时间点的所有记录\n",
    "    df_res_time=df_res.loc[df_res.str_rtime==str_res_time,]\n",
    "\n",
    "    #每天的first reservation（根据datetime_booked）\n",
    "    first_res_index=df_res_time.groupby(by=\"reservation_date\").datetime_booked.idxmin()\n",
    "    df_first_res=df_res_time.loc[first_res_index,]\n",
    "\n",
    "    #每天first reservation被book前有多少\n",
    "    ranks=[]\n",
    "    for date in df_first_res.reservation_date:\n",
    "        datetime_booked=df_first_res.loc[df_first_res.reservation_date==date,].datetime_booked.iloc[0]\n",
    "    #    print(datetime_booked)\n",
    "        df_date_index1=df_res_in_slot.datetime_booked.apply(lambda x: x<datetime_booked)\n",
    "        df_new=df_res_in_slot.loc[df_date_index1,]\n",
    "        df_date_index2=df_res_in_slot.reservation_date.apply(lambda x: x==date)\n",
    "        df_new=df_new.loc[df_date_index2,]\n",
    "\n",
    "        rank=len(df_new)+1\n",
    "        ranks.append(rank)\n",
    "    avg_rank=sum(ranks)/len(ranks)\n",
    "\n",
    "\n",
    "    return avg_rank"
   ]
  },
  {
   "cell_type": "code",
   "execution_count": 12,
   "metadata": {
    "deletable": false,
    "editable": false,
    "nbgrader": {
     "cell_type": "code",
     "checksum": "399c84ae307479c52a0df86da3daeb1e",
     "grade": true,
     "grade_id": "cell-ad9edf80d95cdab5",
     "locked": true,
     "points": 3,
     "schema_version": 3,
     "solution": false,
     "task": false
    }
   },
   "outputs": [],
   "source": [
    "res_time = datetime.time(hour = 21, minute=30)\n",
    "assert np.isclose(Get_Avg_Rank(res_time),3.9035 )"
   ]
  },
  {
   "cell_type": "code",
   "execution_count": 13,
   "metadata": {
    "deletable": false,
    "editable": false,
    "nbgrader": {
     "cell_type": "code",
     "checksum": "859a34f1f83271189f6bdbed76ec31c6",
     "grade": true,
     "grade_id": "cell-8aae0d3b2e2c3558",
     "locked": true,
     "points": 3,
     "schema_version": 3,
     "solution": false,
     "task": false
    }
   },
   "outputs": [],
   "source": [
    "res_time = datetime.time(hour = 20, minute=45)\n",
    "assert np.isclose(Get_Avg_Rank(res_time),1.45714)"
   ]
  },
  {
   "cell_type": "code",
   "execution_count": null,
   "metadata": {},
   "outputs": [],
   "source": []
  }
 ],
 "metadata": {
  "kernelspec": {
   "display_name": "Python 3",
   "language": "python",
   "name": "python3"
  },
  "language_info": {
   "codemirror_mode": {
    "name": "ipython",
    "version": 3
   },
   "file_extension": ".py",
   "mimetype": "text/x-python",
   "name": "python",
   "nbconvert_exporter": "python",
   "pygments_lexer": "ipython3",
   "version": "3.8.3"
  },
  "toc": {
   "nav_menu": {
    "height": "12px",
    "width": "252px"
   },
   "number_sections": true,
   "sideBar": true,
   "skip_h1_title": false,
   "toc_cell": false,
   "toc_position": {},
   "toc_section_display": "block",
   "toc_window_display": false
  }
 },
 "nbformat": 4,
 "nbformat_minor": 2
}
