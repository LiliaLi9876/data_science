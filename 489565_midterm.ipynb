{
 "cells": [
  {
   "cell_type": "markdown",
   "metadata": {
    "deletable": false,
    "editable": false,
    "nbgrader": {
     "cell_type": "markdown",
     "checksum": "dc093ec218cfe04fcb3b0cfc7601cdf8",
     "grade": false,
     "grade_id": "cell-42e0aea8cfd7c364",
     "locked": true,
     "schema_version": 3,
     "solution": false
    }
   },
   "source": [
    "# Midterm: Recommender System for Movies\n",
    "\n",
    "### (Note: This midterm assignment will have hidden test cases)\n",
    "\n",
    "In this project, you will implement a recommender system for your classmates, professor and TAs based on the movie survey we have conducted. The movie preference file is at **./data/movie_preference.csv**\n",
    "\n",
    "## Recommender System\n",
    "\n",
    "The objective of a Recommender System is to recommend relevant items for users, based on their preference. Recommender system is prevalent in the digital space. For example, when you go shopping on Amazon, you will notice that Amazon is recommending products on the front page before you even type anything in the search box. Similarly, when you go on YouTube, the top bar of Youtube is typically \"videos recommended to you.\" All these features are based on recommmender system. \n",
    "\n",
    "What item to recommend to which user is arguably the most important business decision in many digital platforms. For instance, YouTube cannot control which videos that users upload to it. It cannot control which videos users like to watch. Moreoveor, since watching videos is free, YouTube cannot change the price of its items. It does not have inventory either since each video can be viewed as many times as possible. In this case, what could YouTube control? Or in other words, what differentiates a good video streaming service from a bad one? The answer is recommender system. \n",
    "\n",
    "## Types of Recommender Systems\n",
    "\n",
    "There are **three** types of recommender system. **In this bonus project, we will implement the first one.**\n",
    "\n",
    "### Popularity-based Recommendation \n",
    "\n",
    "The most obvious system is popularity-based recommendation. In this case, this model recommends to a user the most popular items that the user has not previously consumed. In the movie setting, we will recommend the movie that most users have liked and consumed. In other words, this system utilizes the \"widom of the crowds.\" It usually provides good recommendations for most of the people. Since it is easy to implement, people normally use popularity-based recommendation as a baseline. *Note: this system is not personalized. If both consumers did not watch Movie A and Movie A is the most popular one, both of them will be recommended Movie A.*\n",
    "\n",
    "### Content-based Recommendation \n",
    "\n",
    "This recommender system leverages the data of one customer's historical actions. This recommender systems first utilizes a set of features to describe an item (for example, for movies, we can use the movie's director, main actor, main actress, genre, etc. to describe the movie). When a user comes in, the system will recommend the movies that are closest to the movie that the users have consumed and liked before in terms of the features. For instance, if a user likes action move from Nolan the most, this system will recommend another action movie from Nolan that this user has not consumed. *Note: we will not implement this system in this bonus project since it requires knowledge about supervised learning. We will come back to this topic at the end of this semester.*\n",
    "\n",
    "### Collaborative Filtering Recommendation\n",
    "\n",
    "The last type of recommender system is called collaborative filtering. This approach uses the memory of previous users interactions to compute users similarities based on items they've interacted (user-based approach) or compute items similarities based on the users that have interacted with them (item-based approach).\n",
    "\n",
    "A typical example of this approach is User Neighbourhood-based CF, in which the top-N similar users (usually computed using Pearson correlation) for a user are selected and used to recommend items those similar users liked, but the current user have not interacted yet. "
   ]
  },
  {
   "cell_type": "markdown",
   "metadata": {
    "deletable": false,
    "editable": false,
    "nbgrader": {
     "cell_type": "markdown",
     "checksum": "3c3b4e2cdf283095d399e464f7f3e8ae",
     "grade": false,
     "grade_id": "cell-4108a0d7ed105cda",
     "locked": true,
     "schema_version": 3,
     "solution": false
    }
   },
   "source": [
    "## Step-0 Read-in the preference file\n",
    "\n",
    "The first exercise is to read in the movie preference csv file (you need to use relative path). \n",
    "\n",
    "It returns two things:\n",
    "\n",
    "1. A dictionary where the key is username and the value is a vector of (-1, 0, 1) that indicates the users preference across movies (in the order of the csv file). \n",
    "\n",
    "2. A list of strings that contains movie names. (The order of movie names should be the same as the order in the original csv file)\n",
    "\n",
    "\n",
    "**Note 1:** Your result should exactly match the results from the assert statements. This means you should pay attention to extra space, newline, etc.\n",
    "\n",
    "**Note 2:** If there are two records with the same name, use the first record from the person.\n"
   ]
  },
  {
   "cell_type": "code",
   "execution_count": 2,
   "metadata": {
    "deletable": false,
    "nbgrader": {
     "cell_type": "code",
     "checksum": "3cfe53ac4076bb8149a2557b309ae87f",
     "grade": false,
     "grade_id": "cell-b3679d3e7a94fc65",
     "locked": false,
     "schema_version": 3,
     "solution": true,
     "task": false
    }
   },
   "outputs": [],
   "source": [
    "def read_in_movie_preference():\n",
    "    \"\"\"Read the move data, and return a \n",
    "    preference dictionary.\"\"\"\n",
    "    preference = {}\n",
    "    movies = []\n",
    "    \n",
    "    path=\"./data/preference.csv\"\n",
    "    file=open(path,\"r\")\n",
    "    lines=file.readlines()\n",
    "    titles=lines[0].strip(\"\\n\").split(\",\")\n",
    "    \n",
    "    for string in titles[2:]:\n",
    "        movies.append(string.strip(\" \"))\n",
    "    \n",
    "    n_movies=len(movies)\n",
    "    \n",
    "    for line in lines[1:]:\n",
    "        line=line.strip(\"\\n\").split(\",\")\n",
    "        username=line[1]\n",
    "        scores=[]\n",
    "        for i in range(n_movies):\n",
    "            score=int(line[i+2])\n",
    "            scores.append(score)\n",
    "        if username not in preference.keys():\n",
    "            preference[username]=scores\n",
    "        \n",
    "  \n",
    "    return [movies, preference]\n"
   ]
  },
  {
   "cell_type": "code",
   "execution_count": 12,
   "metadata": {},
   "outputs": [
    {
     "name": "stdout",
     "output_type": "stream",
     "text": [
      "['The Shawshank Redemption', 'The Godfather', 'The Dark Knight', 'Star Wars: The Force Awakens', 'The Lord of the Rings: The Return of the King', 'Inception', 'The Matrix', 'Avengers: Infinity War', 'Interstellar', 'Spirited Away', 'Coco', 'The Dark Knight Rises', 'Braveheart', 'The Wolf of Wall Street', 'Gone Girl', 'La La Land', 'Shutter Island', 'Ex Machina', 'The Martian', 'Kingsman: The Secret Service']\n",
      "True\n"
     ]
    }
   ],
   "source": [
    "#draft\n",
    "preference = {}\n",
    "movies = []\n",
    "\n",
    "path=\"./data/preference.csv\"\n",
    "file=open(path,\"r\")\n",
    "lines=file.readlines()\n",
    "titles=lines[0].replace(\"\\n\",\"\").split(\",\")\n",
    "\n",
    "for string in titles[2:]:\n",
    "    movies.append(string.strip(\" \"))\n",
    "print(movies)    \n",
    "#info_1=lines[1].strip(\"\\n\").split(\",\")\n",
    "#username_1=info_1[1]\n",
    "#username_1\n",
    "#prefer=info_1[2:]\n",
    "#prefer\n",
    "n_movies=len(movies)\n",
    "\n",
    "for line in lines[1:]:\n",
    "    line=line.replace(\"\\n\",\"\").split(\",\")\n",
    "    username=line[1]\n",
    "    scores=[]\n",
    "    for i in range(n_movies):\n",
    "        score=int(line[i+2])\n",
    "        scores.append(score)\n",
    "    preference[username]=scores\n",
    "preference[\"Ziqing Ouyang\"]\n",
    "preference[\"Jacob Scheinman\"]\n",
    "x=['The Shawshank Redemption', 'The Godfather',\n",
    "                       'The Dark Knight', 'Star Wars: The Force Awakens',\n",
    "                       'The Lord of the Rings: The Return of the King',\n",
    "                       'Inception', 'The Matrix', 'Avengers: Infinity War',\n",
    "                       'Interstellar', 'Spirited Away', 'Coco', 'The Dark Knight Rises',\n",
    "                       'Braveheart', 'The Wolf of Wall Street', 'Gone Girl', 'La La Land',\n",
    "                       'Shutter Island', 'Ex Machina', 'The Martian', 'Kingsman: The Secret Service']\n",
    "print(movies==x)"
   ]
  },
  {
   "cell_type": "code",
   "execution_count": 3,
   "metadata": {
    "deletable": false,
    "editable": false,
    "nbgrader": {
     "cell_type": "code",
     "checksum": "47db65fa22db4349e99f5f32763e5606",
     "grade": true,
     "grade_id": "cell-186a478565fdc790",
     "locked": true,
     "points": 5,
     "schema_version": 3,
     "solution": false,
     "task": false
    }
   },
   "outputs": [],
   "source": [
    "[movies, preference] = read_in_movie_preference()\n",
    "assert len(movies) == 20"
   ]
  },
  {
   "cell_type": "code",
   "execution_count": 4,
   "metadata": {
    "deletable": false,
    "editable": false,
    "nbgrader": {
     "cell_type": "code",
     "checksum": "d3600652158cb529ae6a0b560bd640fe",
     "grade": true,
     "grade_id": "cell-5630d404a280c24d",
     "locked": true,
     "points": 5,
     "schema_version": 3,
     "solution": false,
     "task": false
    }
   },
   "outputs": [],
   "source": [
    "[movies, preference] = read_in_movie_preference()\n",
    "assert movies == ['The Shawshank Redemption', 'The Godfather',\n",
    "                       'The Dark Knight', 'Star Wars: The Force Awakens',\n",
    "                       'The Lord of the Rings: The Return of the King',\n",
    "                       'Inception', 'The Matrix', 'Avengers: Infinity War',\n",
    "                       'Interstellar', 'Spirited Away', 'Coco', 'The Dark Knight Rises',\n",
    "                       'Braveheart', 'The Wolf of Wall Street', 'Gone Girl', 'La La Land',\n",
    "                       'Shutter Island', 'Ex Machina', 'The Martian', 'Kingsman: The Secret Service']"
   ]
  },
  {
   "cell_type": "code",
   "execution_count": 5,
   "metadata": {
    "deletable": false,
    "editable": false,
    "nbgrader": {
     "cell_type": "code",
     "checksum": "82522772ee5eebf2bfdb91529a98abe8",
     "grade": true,
     "grade_id": "cell-b0515b35a5476ae0",
     "locked": true,
     "points": 10,
     "schema_version": 3,
     "solution": false,
     "task": false
    }
   },
   "outputs": [],
   "source": [
    "[movies, preference] = read_in_movie_preference()\n",
    "assert preference[\"Jacob Scheinman\"] == [1, 1, 1, 1, 1, 1, 1, 1, -1, 0, 1, 1, 0, 1, 0, 0, 0, 0, 1, 1]\n",
    "assert preference[\"Ziqing Ouyang\"] == [0, 0, 0, 0, 0, 1, 1, 1, 0, 0, 0, 0, 0, 0, 0, 1, 0, 0, 0, 1]"
   ]
  },
  {
   "cell_type": "markdown",
   "metadata": {
    "deletable": false,
    "editable": false,
    "nbgrader": {
     "cell_type": "markdown",
     "checksum": "e7c735c3f2ce1fa3b823218409c16d03",
     "grade": false,
     "grade_id": "cell-9cc0fd2029104195",
     "locked": true,
     "schema_version": 3,
     "solution": false
    }
   },
   "source": [
    "## Step-1 Popularity-based Ranking\n",
    "### Step-1.1 Compute the ranking of most popular movies\n",
    "\n",
    "Your next task is to take the movie preference dataframe and computes the popular ranking of movies from the most popular to the least popular. You should return a list where each element represents the popularity ranking of the movies. The order of the list should reflect the order of the movie names in the dataframe. \n",
    "\n",
    "In the process to compute a movie's popularity. You should first compute how many times people have liked movies in the entire dataset across all movies. You should then compute how many times people have disliked movies in the entire data set across all movies.\n",
    "\n",
    "Assuming that people have liked movies **A** times in the entire data set and disliked movies **B** times in the entire data set. The popularity of a movie is then defined as **Num_of_People_Like_the_Movie - A / B * Num_of_People_Dislike_the_Movie**\n",
    "\n",
    "(We use A/B to normalize the weights of likes and dislikes because if one type of reaction is rare, it derseves more weights. For example, if all movies on average are liked 1000 times but disliked only once. Then the signal of dislike on a movie's quality should be much stronger than the signal of likes on a movie's quality).\n",
    "\n",
    "\n",
    "Your function should return:\n",
    "    1. A dictionary where the key are movie names and the values are correpsonding movie popularity.\n",
    "    2. A list of movie names sorted ascendingly by their popularity. For example, if 'The Shawshank Redemption' is the second most popular movie, the second element in the list should be 'The Shawshank Redemption'.\n",
    "    3. **A** and **B** as defined above.\n",
    "\n",
    "**Note: You may want to use prior functions to help you read data inside this function**"
   ]
  },
  {
   "cell_type": "code",
   "execution_count": 8,
   "metadata": {
    "deletable": false,
    "nbgrader": {
     "cell_type": "code",
     "checksum": "e9e9e6726096b3214b6f532ce3eeebf5",
     "grade": false,
     "grade_id": "cell-330ba96678776e4a",
     "locked": false,
     "schema_version": 3,
     "solution": true
    }
   },
   "outputs": [],
   "source": [
    "def movies_popularity_ranking():\n",
    "    movie_popularity = {}\n",
    "    movie_popularity_rank = []\n",
    "    total_likes = 0\n",
    "    total_dislikes = 0\n",
    "    like_list=[]\n",
    "    dislike_list=[]    \n",
    "\n",
    "    for i in range(len(movies)):\n",
    "        likes=0\n",
    "        dislikes=0\n",
    "        for key in preference.keys():\n",
    "            info=preference[key]\n",
    "            if info[i]==1:\n",
    "                likes=likes+1\n",
    "            elif info[i]==-1:\n",
    "                dislikes=dislikes+1\n",
    "        like_list.append(likes)\n",
    "        dislike_list.append(dislikes)\n",
    "\n",
    "    total_likes=sum(like_list)\n",
    "    total_dislikes=sum(dislike_list)\n",
    "    A=total_likes\n",
    "    B=total_dislikes\n",
    "\n",
    "    for i in range(len(movies)):\n",
    "        likes=0\n",
    "        dislikes=0\n",
    "        for key in preference.keys():\n",
    "            info=preference[key]\n",
    "            if info[i]==1:\n",
    "                likes=likes+1\n",
    "            elif info[i]==-1:\n",
    "                dislikes=dislikes+1\n",
    "        popularity=likes-(A/B)*dislikes\n",
    "        movie_popularity[movies[i]]=popularity\n",
    "\n",
    "        \n",
    "    movies_sorted=sorted (movie_popularity.items(), key=lambda item:item[1], reverse = True )\n",
    "\n",
    "    for i in range(len(movies_sorted)):\n",
    "        movie_info=movies_sorted[i]\n",
    "        movie_popularity_rank.append(movie_info[0])\n",
    "    \n",
    "    \n",
    "    return movie_popularity, movie_popularity_rank, total_likes, total_dislikes"
   ]
  },
  {
   "cell_type": "code",
   "execution_count": 37,
   "metadata": {},
   "outputs": [
    {
     "name": "stdout",
     "output_type": "stream",
     "text": [
      "1300 236\n",
      "{'The Shawshank Redemption': 66.98305084745763, 'The Godfather': -8.593220338983059, 'The Dark Knight': 4.881355932203377, 'Star Wars: The Force Awakens': -90.22033898305085, 'The Lord of the Rings: The Return of the King': -40.152542372881356, 'Inception': 59.45762711864407, 'The Matrix': 24.44067796610169, 'Avengers: Infinity War': 14.86440677966101, 'Interstellar': 7.389830508474574, 'Spirited Away': -1.6101694915254257, 'Coco': 22.423728813559322, 'The Dark Knight Rises': 10.898305084745758, 'Braveheart': -13.067796610169495, 'The Wolf of Wall Street': 27.40677966101694, 'Gone Girl': -31.101694915254242, 'La La Land': -15.118644067796623, 'Shutter Island': -21.59322033898306, 'Ex Machina': -48.610169491525426, 'The Martian': 1.8983050847457577, 'Kingsman: The Secret Service': 29.423728813559322}\n",
      "[('The Shawshank Redemption', 66.98305084745763), ('Inception', 59.45762711864407), ('Kingsman: The Secret Service', 29.423728813559322), ('The Wolf of Wall Street', 27.40677966101694), ('The Matrix', 24.44067796610169), ('Coco', 22.423728813559322), ('Avengers: Infinity War', 14.86440677966101), ('The Dark Knight Rises', 10.898305084745758), ('Interstellar', 7.389830508474574), ('The Dark Knight', 4.881355932203377), ('The Martian', 1.8983050847457577), ('Spirited Away', -1.6101694915254257), ('The Godfather', -8.593220338983059), ('Braveheart', -13.067796610169495), ('La La Land', -15.118644067796623), ('Shutter Island', -21.59322033898306), ('Gone Girl', -31.101694915254242), ('The Lord of the Rings: The Return of the King', -40.152542372881356), ('Ex Machina', -48.610169491525426), ('Star Wars: The Force Awakens', -90.22033898305085)]\n"
     ]
    },
    {
     "data": {
      "text/plain": [
       "['The Shawshank Redemption',\n",
       " 'Inception',\n",
       " 'Kingsman: The Secret Service',\n",
       " 'The Wolf of Wall Street',\n",
       " 'The Matrix',\n",
       " 'Coco',\n",
       " 'Avengers: Infinity War',\n",
       " 'The Dark Knight Rises',\n",
       " 'Interstellar',\n",
       " 'The Dark Knight',\n",
       " 'The Martian',\n",
       " 'Spirited Away',\n",
       " 'The Godfather',\n",
       " 'Braveheart',\n",
       " 'La La Land',\n",
       " 'Shutter Island',\n",
       " 'Gone Girl',\n",
       " 'The Lord of the Rings: The Return of the King',\n",
       " 'Ex Machina',\n",
       " 'Star Wars: The Force Awakens']"
      ]
     },
     "execution_count": 37,
     "metadata": {},
     "output_type": "execute_result"
    }
   ],
   "source": [
    "#draft\n",
    "movie_popularity = {}\n",
    "movie_popularity_rank = []\n",
    "like_list=[]\n",
    "dislike_list=[]\n",
    "total_likes = 0\n",
    "total_dislikes = 0\n",
    "\n",
    "for i in range(len(movies)):\n",
    "    likes=0\n",
    "    dislikes=0\n",
    "    for key in preference.keys():\n",
    "        info=preference[key]\n",
    "        if info[i]==1:\n",
    "            likes=likes+1\n",
    "        elif info[i]==-1:\n",
    "            dislikes=dislikes+1\n",
    "    like_list.append(likes)\n",
    "    dislike_list.append(dislikes)\n",
    "    \n",
    "total_likes=sum(like_list)\n",
    "total_dislikes=sum(dislike_list)\n",
    "\n",
    "for i in range(len(movies)):\n",
    "    likes=0\n",
    "    dislikes=0\n",
    "    for key in preference.keys():\n",
    "        info=preference[key]\n",
    "        if info[i]==1:\n",
    "            likes=likes+1\n",
    "        elif info[i]==-1:\n",
    "            dislikes=dislikes+1\n",
    "    popularity=likes-(A/B)*dislikes\n",
    "    movie_popularity[movies[i]]=popularity\n",
    "\n",
    "print(A,B)\n",
    "print(movie_popularity)\n",
    "\n",
    "movies_sorted=sorted (movie_popularity.items(), key=lambda item:item[1], reverse = True )\n",
    "print(movies_sorted)\n",
    "for i in range(len(movies_sorted)):\n",
    "    movie_info=movies_sorted[i]\n",
    "    movie_popularity_rank.append(movie_info[0])\n",
    "    \n",
    "movie_popularity_rank"
   ]
  },
  {
   "cell_type": "code",
   "execution_count": 9,
   "metadata": {
    "deletable": false,
    "editable": false,
    "nbgrader": {
     "cell_type": "code",
     "checksum": "e30f49bdc8818f18ee9539ba8794d886",
     "grade": true,
     "grade_id": "cell-3f47ab3b02050bd4",
     "locked": true,
     "points": 5,
     "schema_version": 3,
     "solution": false,
     "task": false
    }
   },
   "outputs": [],
   "source": [
    "movie_popularity, movie_popularity_rank, total_likes, total_dislikes = movies_popularity_ranking()\n",
    "assert total_likes == 1300\n",
    "assert total_dislikes == 236"
   ]
  },
  {
   "cell_type": "code",
   "execution_count": 10,
   "metadata": {
    "deletable": false,
    "editable": false,
    "nbgrader": {
     "cell_type": "code",
     "checksum": "ae31b4879462cdb28e6fb2a2c1a8cf67",
     "grade": true,
     "grade_id": "cell-c306578d650b19c0",
     "locked": true,
     "points": 5,
     "schema_version": 3,
     "solution": false,
     "task": false
    }
   },
   "outputs": [],
   "source": [
    "movie_popularity, movie_popularity_rank, total_likes, total_dislikes = movies_popularity_ranking()\n",
    "assert round(movie_popularity[\"The Shawshank Redemption\"], 2) == 66.98\n",
    "assert round(movie_popularity[\"Avengers: Infinity War\"], 2) == 14.86"
   ]
  },
  {
   "cell_type": "code",
   "execution_count": 11,
   "metadata": {
    "deletable": false,
    "editable": false,
    "nbgrader": {
     "cell_type": "code",
     "checksum": "66633f3f99257840c97973434ddd1905",
     "grade": true,
     "grade_id": "cell-736c1f24d6b1e609",
     "locked": true,
     "points": 5,
     "schema_version": 3,
     "solution": false,
     "task": false
    }
   },
   "outputs": [],
   "source": [
    "movie_popularity, movie_popularity_rank, total_likes, total_dislikes = movies_popularity_ranking()\n",
    "assert movie_popularity_rank == ['The Shawshank Redemption',\n",
    " 'Inception',\n",
    " 'Kingsman: The Secret Service',\n",
    " 'The Wolf of Wall Street',\n",
    " 'The Matrix',\n",
    " 'Coco',\n",
    " 'Avengers: Infinity War',\n",
    " 'The Dark Knight Rises',\n",
    " 'Interstellar',\n",
    " 'The Dark Knight',\n",
    " 'The Martian',\n",
    " 'Spirited Away',\n",
    " 'The Godfather',\n",
    " 'Braveheart',\n",
    " 'La La Land',\n",
    " 'Shutter Island',\n",
    " 'Gone Girl',\n",
    " 'The Lord of the Rings: The Return of the King',\n",
    " 'Ex Machina',\n",
    " 'Star Wars: The Force Awakens']"
   ]
  },
  {
   "cell_type": "markdown",
   "metadata": {
    "deletable": false,
    "editable": false,
    "nbgrader": {
     "cell_type": "markdown",
     "checksum": "cd92263f606289debb3b1b0a01bb3f6b",
     "grade": false,
     "grade_id": "cell-4e5bda9e37c1f991",
     "locked": true,
     "schema_version": 3,
     "solution": false
    }
   },
   "source": [
    "## 1.2 Recommendation\n",
    "\n",
    "You will then implement a recommendation function. This function will take in a user's name, it will return a string representing the name of the top movie that this user has not watched and has best popularity ranking (i.e., lowest ranking number) only if this unwatched movie has higher popularity scores than the average of popularity scores of movies that this user has watched (regardless whether he/she likes or dislikes the movie). \n",
    "\n",
    "If the user name does not exit, this function should return \"Invalid user.\"\n",
    "\n",
    "If the user has watched all movies, this function should return \"Unfortunately, no new movies for you.\"\n",
    "\n",
    "If the unwatched movies all have lower popularity scores than the average score of movies watched by this user, this function should return \"Unfortunately, no new movies for you.\"\n",
    "\n",
    "**Note: Again, you may want to use prior functions to help you read data and rank movies inside this function**"
   ]
  },
  {
   "cell_type": "code",
   "execution_count": 12,
   "metadata": {
    "deletable": false,
    "nbgrader": {
     "cell_type": "code",
     "checksum": "b2e2d591ab6590d842d7fa87f89d484d",
     "grade": false,
     "grade_id": "cell-3cf2c39ef6f2c170",
     "locked": false,
     "schema_version": 3,
     "solution": true
    }
   },
   "outputs": [],
   "source": [
    "def Recommendation(name):\n",
    "    \n",
    "    recommended_movie = \"\"\n",
    "    if name in preference.keys():\n",
    "        info=preference[name]\n",
    "        #print(info)\n",
    "        #calculate the average of popularity scores of movies that this user has watched \n",
    "        watched_movies=[]\n",
    "        watched_avg=0\n",
    "\n",
    "        for i in range(len(info)):\n",
    "            if info[i]!=0:\n",
    "                watched_movies.append(movie_popularity[movies[i]])\n",
    "            if len(watched_movies)!=0:\n",
    "                watched_avg=sum(watched_movies)/len(watched_movies)\n",
    "\n",
    "        #print(watched_avg)\n",
    "\n",
    "        #order the info in accordance with movie_popularity_rank\n",
    "        dict_info={}\n",
    "        for i in range(len(info)):\n",
    "            dict_info[movies[i]]=info[i]\n",
    "\n",
    "        #print(dict_info)\n",
    "\n",
    "        #compare the avg with the unwatched movies\n",
    "        if len(watched_movies)==len(movies):#watched all\n",
    "            return \"Unfortunately, no new movies for you.\"\n",
    "        elif len(watched_movies)<len(movies) and len(watched_movies)!=0:#watched some\n",
    "            for target_movie in movie_popularity_rank:\n",
    "                if dict_info[target_movie]==0 and movie_popularity[target_movie]>=watched_avg:\n",
    "                    recommended_movie=target_movie\n",
    "                    break\n",
    "            if recommended_movie==\"\":#watched some but all < avg\n",
    "                return \"Unfortunately, no new movies for you.\"\n",
    "        elif len(watched_movies)==0:#watched none\n",
    "            recommended_movie=movies[0]\n",
    "    else:\n",
    "        return \"Invalid user.\"\n",
    "    #print(recommended_movie)\n",
    "    \n",
    "    return recommended_movie\n"
   ]
  },
  {
   "cell_type": "code",
   "execution_count": 83,
   "metadata": {},
   "outputs": [
    {
     "name": "stdout",
     "output_type": "stream",
     "text": [
      "Invalid user.\n"
     ]
    },
    {
     "data": {
      "text/plain": [
       "True"
      ]
     },
     "execution_count": 83,
     "metadata": {},
     "output_type": "execute_result"
    }
   ],
   "source": [
    "#是草稿\n",
    "recommended_movie = \"\"\n",
    "name=\"Test Student 2\"\n",
    "if name in preference.keys():\n",
    "    info=preference[name]\n",
    "    #print(info)\n",
    "    #calculate the average of popularity scores of movies that this user has watched \n",
    "    watched_movies=[]\n",
    "\n",
    "    for i in range(len(info)):\n",
    "        if info[i]!=0:\n",
    "            watched_movies.append(movie_popularity[movies[i]])\n",
    "        if len(watched_movies)!=0:\n",
    "            watched_avg=sum(watched_movies)/len(watched_movies)\n",
    "\n",
    "    #print(watched_avg)\n",
    "\n",
    "    #order the info in accordance with movie_popularity_rank\n",
    "    dict_info={}\n",
    "    for i in range(len(info)):\n",
    "        dict_info[movies[i]]=info[i]\n",
    "\n",
    "    #print(dict_info)\n",
    "\n",
    "    #compare the avg with the unwatched movies\n",
    "    if len(watched_movies)==len(movies):#watched all\n",
    "        print(\"Unfortunately, no new movies for you.\")\n",
    "    elif len(watched_movies)<len(movies) and len(watched_movies)!=0:#watched some\n",
    "        for target_movie in movie_popularity_rank:\n",
    "            if dict_info[target_movie]==0 and movie_popularity[target_movie]>=watched_avg:\n",
    "                recommended_movie=target_movie\n",
    "                break\n",
    "        if recommended_movie==\"\":#watched some but all < avg\n",
    "            print(\"Unfortunately, no new movies for you.\")   \n",
    "    elif len(watched_movies)==0:#watched none\n",
    "        recommended_movie=movies[0]\n",
    "else:\n",
    "    print(\"Invalid user.\")\n",
    "#print(recommended_movie)\n",
    "Recommendation(\"Test Student 2\") == 'Invalid user.'"
   ]
  },
  {
   "cell_type": "code",
   "execution_count": 13,
   "metadata": {
    "deletable": false,
    "editable": false,
    "nbgrader": {
     "cell_type": "code",
     "checksum": "592be6287ffe842a0cee947b858bea94",
     "grade": true,
     "grade_id": "cell-13b32edf438b5c7e",
     "locked": true,
     "points": 5,
     "schema_version": 3,
     "solution": false,
     "task": false
    }
   },
   "outputs": [],
   "source": [
    "assert Recommendation(\"Jiaxu Rong\") == 'Inception'\n",
    "assert Recommendation(\"Nobody\") == 'The Shawshank Redemption'"
   ]
  },
  {
   "cell_type": "code",
   "execution_count": 14,
   "metadata": {
    "deletable": false,
    "editable": false,
    "nbgrader": {
     "cell_type": "code",
     "checksum": "8cbacde862f14b378c1b58e4a2868916",
     "grade": true,
     "grade_id": "cell-17b895dde51f52ea",
     "locked": true,
     "points": 5,
     "schema_version": 3,
     "solution": false,
     "task": false
    }
   },
   "outputs": [],
   "source": [
    "assert Recommendation(\"Dennis Zhang\") == 'Kingsman: The Secret Service'"
   ]
  },
  {
   "cell_type": "code",
   "execution_count": 15,
   "metadata": {
    "deletable": false,
    "editable": false,
    "nbgrader": {
     "cell_type": "code",
     "checksum": "7faf630526e140b3144a67df16df29f2",
     "grade": true,
     "grade_id": "cell-c33a47a80a692472",
     "locked": true,
     "points": 5,
     "schema_version": 3,
     "solution": false,
     "task": false
    }
   },
   "outputs": [],
   "source": [
    "assert Recommendation(\"Test Student 2\") == 'Invalid user.'"
   ]
  },
  {
   "cell_type": "markdown",
   "metadata": {
    "deletable": false,
    "editable": false,
    "nbgrader": {
     "cell_type": "markdown",
     "checksum": "ff2e77358b5eca4d902c980947341968",
     "grade": false,
     "grade_id": "cell-2192dbe1a783c087",
     "locked": true,
     "schema_version": 3,
     "solution": false,
     "task": false
    }
   },
   "source": [
    "## 2.1 Cosine Similarity\n",
    "Let us then use collaborative filtering to find the recommendation.\n",
    "\n",
    "First, we need to get the cosine similarity beween movies and users. Again, we can use the preference file that we get in Step 0. In that case, each person is represented by a vector of (0, 1, -1). Cosine similarity in our case is the dot product of the two preference vectors divided by the product of the magnitude of the two preference vectors. In other words, if person A has preference vector A, and person B has preference vector B, their cosine similarity is equal to \n",
    "\n",
    "$$ \\frac{A \\cdot B}{||A||||B||} = \\frac{\\sum_i^n A_iB_i}{\\sqrt{\\sum_i^nA_i^2}\\sqrt{\\sum_i^nB_i^2}}$$\n",
    "\n",
    "If a person has not watched any movies, then the cosine similarity between this person and any other person is defined as 0. For more information on cosine simialrity, you can read this [wiki page](https://en.wikipedia.org/wiki/Cosine_similarity)\n",
    "\n",
    "For example, the following two vectors represent Dennis' and Jake's preference over 3 movies.\n",
    "\n",
    "         Inception  Coco     The Dark Knight\n",
    "    Jake     1         -1        0\n",
    "\n",
    "    Dennis   -1         0        1\n",
    "\n",
    "In this case, Dennis and Jake's cosine similarity is equal to\n",
    "\n",
    "$$ \\frac{1*(-1)+(-1)*0+0*(-1)}{\\sqrt{1+1}*\\sqrt{(-1)^2+1}} = \\frac{-1}{2} = -0.5$$\n",
    "\n",
    "**Your task** is to write a similarity function that takes in two names and returns the jaccard similarity between these two people. If one or two names do not exist in the database, return 0. \n",
    "\n"
   ]
  },
  {
   "cell_type": "code",
   "execution_count": 16,
   "metadata": {
    "deletable": false,
    "nbgrader": {
     "cell_type": "code",
     "checksum": "a968cad8647b32a0c7768ed0bb80a69e",
     "grade": false,
     "grade_id": "cell-f32c4bc84d3b8cb5",
     "locked": false,
     "schema_version": 3,
     "solution": true,
     "task": false
    }
   },
   "outputs": [],
   "source": [
    "def Similarity(name_1, name_2):\n",
    "    \"\"\"Given two names and preference, get the similarity \n",
    "    between two people\"\"\"\n",
    "    cosine = 0\n",
    "    if name_1 in preference.keys() and name_2 in preference.keys():    \n",
    "    \n",
    "        info_1=preference[name_1]\n",
    "        info_2=preference[name_2]\n",
    "\n",
    "        numerator=0\n",
    "        magnitude_1=0\n",
    "        magnitude_2=0\n",
    "        for i in range(len(info_1)):\n",
    "            numerator=numerator+info_1[i]*info_2[i]\n",
    "            magnitude_1=magnitude_1+info_1[i]**2\n",
    "            magnitude_2=magnitude_2+info_2[i]**2\n",
    "        if magnitude_1!=0 and magnitude_2!=0:\n",
    "            cosine=numerator/((magnitude_1**0.5)*(magnitude_2**0.5))    \n",
    "        \n",
    "        \n",
    "    \n",
    "    return cosine"
   ]
  },
  {
   "cell_type": "code",
   "execution_count": 94,
   "metadata": {},
   "outputs": [
    {
     "name": "stdout",
     "output_type": "stream",
     "text": [
      "7 5\n"
     ]
    },
    {
     "data": {
      "text/plain": [
       "0.16903085094570328"
      ]
     },
     "execution_count": 94,
     "metadata": {},
     "output_type": "execute_result"
    }
   ],
   "source": [
    "#test\n",
    "name_1=\"Test Student\"\n",
    "name_2=\"Nobody\"\n",
    "\n",
    "info_1=preference[name_1]\n",
    "info_2=preference[name_2]\n",
    "\n",
    "numerator=0\n",
    "magnitude_1=0\n",
    "magnitude_2=0\n",
    "for i in range(len(info_1)):\n",
    "    numerator=numerator+info_1[i]*info_2[i]\n",
    "    magnitude_1=magnitude_1+info_1[i]**2\n",
    "    magnitude_2=magnitude_2+info_2[i]**2   \n",
    "cosine=numerator/((magnitude_1**0.5)*(magnitude_2**0.5))\n",
    "print(magnitude_1,magnitude_2)\n",
    "cosine"
   ]
  },
  {
   "cell_type": "code",
   "execution_count": 17,
   "metadata": {
    "deletable": false,
    "editable": false,
    "nbgrader": {
     "cell_type": "code",
     "checksum": "e6fb18d870494bab2819f5085d1eb76c",
     "grade": true,
     "grade_id": "cell-7a65b16620e5bb27",
     "locked": true,
     "points": 10,
     "schema_version": 3,
     "solution": false,
     "task": false
    }
   },
   "outputs": [],
   "source": [
    "assert round(Similarity(\"Test Student\", \"Nobody\"), 2) == 0.17\n",
    "assert round(Similarity(\"Test Student\", \"DJZ2\"), 2) == -0.27"
   ]
  },
  {
   "cell_type": "code",
   "execution_count": 18,
   "metadata": {
    "deletable": false,
    "editable": false,
    "nbgrader": {
     "cell_type": "code",
     "checksum": "8540a4619f9ba276e689c51dbf3a66f3",
     "grade": true,
     "grade_id": "cell-95386d67a475aa08",
     "locked": true,
     "points": 5,
     "schema_version": 3,
     "solution": false,
     "task": false
    }
   },
   "outputs": [],
   "source": [
    "assert round(Similarity(\"Test Student\", \"Test Student 2\"), 2) == 0"
   ]
  },
  {
   "cell_type": "markdown",
   "metadata": {
    "deletable": false,
    "editable": false,
    "nbgrader": {
     "cell_type": "markdown",
     "checksum": "6415b58f46f13795304a2e2a336b378d",
     "grade": false,
     "grade_id": "cell-4ea71dabdbccbba1",
     "locked": true,
     "schema_version": 3,
     "solution": false,
     "task": false
    }
   },
   "source": [
    "## 2.2 Movie Soulmate\n",
    "\n",
    "Your next task is to find the movie soulmate for a person. In order to find a person's movie soulmate, you will compute the cosine similarity between this person and every other person in the data set. You will then return the person who has the highest cosine similarity with the focal person. If two people have the same cosine similarity with the focal person, you can tie break by the length of names (the name with lower length will be the soulmate). If the focal person does not exist in the database, return an empty string as the soulmate name.\n",
    "\n",
    "You function will return two things:\n",
    "1. the name of the soulmate\n",
    "2. the largest cosine similarity\n",
    "\n"
   ]
  },
  {
   "cell_type": "code",
   "execution_count": 19,
   "metadata": {
    "deletable": false,
    "nbgrader": {
     "cell_type": "code",
     "checksum": "7079bc19ef158d80d5d1e03b9ac61058",
     "grade": false,
     "grade_id": "cell-c53815c71ec1252d",
     "locked": false,
     "schema_version": 3,
     "solution": true,
     "task": false
    }
   },
   "outputs": [],
   "source": [
    "def Movie_Soul_Mate(name):\n",
    "    \"\"\"Given a name, get the player that has highest Jaccard \n",
    "    similarity with this person.\"\"\"\n",
    "    soulmate = \"\"\n",
    "    cosine_similarity = -100\n",
    "    \n",
    "    for person in preference.keys():\n",
    "        if person != name:\n",
    "            if Similarity(name, person)>cosine_similarity:\n",
    "                cosine_similarity=Similarity(name, person)\n",
    "                soulmate=person\n",
    "            elif Similarity(name, person)==cosine_similarity:\n",
    "                if len(person)<len(soulmate):\n",
    "                    soulmate=person\n",
    "\n",
    "    return soulmate, cosine_similarity\n"
   ]
  },
  {
   "cell_type": "code",
   "execution_count": 128,
   "metadata": {},
   "outputs": [
    {
     "name": "stdout",
     "output_type": "stream",
     "text": [
      "0.8017837257372731 Michael Treiber\n"
     ]
    }
   ],
   "source": [
    "#test\n",
    "name=\"Test Student\"\n",
    "soulmate = \"\"\n",
    "cosine_similarity = -100\n",
    "\n",
    "for person in preference.keys():\n",
    "    if person != name:\n",
    "        if Similarity(name, person)>cosine_similarity:\n",
    "            cosine_similarity=Similarity(name, person)\n",
    "            soulmate=person\n",
    "        elif Similarity(name, person)==cosine_similarity:\n",
    "            if len(person)<len(soulmate):\n",
    "                soulmate=person\n",
    "        \n",
    "print(cosine_similarity,soulmate)        \n",
    "    \n",
    "    "
   ]
  },
  {
   "cell_type": "code",
   "execution_count": 20,
   "metadata": {
    "deletable": false,
    "editable": false,
    "nbgrader": {
     "cell_type": "code",
     "checksum": "76a2d80c8221d80cfa5e3af6f7c1e43e",
     "grade": true,
     "grade_id": "cell-316ca2c5633dd4c5",
     "locked": true,
     "points": 5,
     "schema_version": 3,
     "solution": false,
     "task": false
    }
   },
   "outputs": [],
   "source": [
    "soulmate, cosine_similarity = Movie_Soul_Mate(\"Q\")\n",
    "assert soulmate == 'Yunong Tian'\n",
    "assert round(cosine_similarity, 2) == 0.75"
   ]
  },
  {
   "cell_type": "code",
   "execution_count": 21,
   "metadata": {
    "deletable": false,
    "editable": false,
    "nbgrader": {
     "cell_type": "code",
     "checksum": "f8e372e2de0a8bde3fb535e5c78bc93e",
     "grade": true,
     "grade_id": "cell-dce0505fc8de593e",
     "locked": true,
     "points": 10,
     "schema_version": 3,
     "solution": false,
     "task": false
    }
   },
   "outputs": [],
   "source": [
    "soulmate, cosine_similarity = Movie_Soul_Mate(\"Test Student\")\n",
    "assert soulmate == 'Michael Treiber'\n",
    "assert round(cosine_similarity, 2) == 0.80"
   ]
  },
  {
   "cell_type": "code",
   "execution_count": 22,
   "metadata": {
    "deletable": false,
    "editable": false,
    "nbgrader": {
     "cell_type": "code",
     "checksum": "ab6e9376aa09a3b48ba7ee2ac620a87e",
     "grade": true,
     "grade_id": "cell-c96560dd94b9fcb0",
     "locked": true,
     "points": 5,
     "schema_version": 3,
     "solution": false,
     "task": false
    }
   },
   "outputs": [],
   "source": [
    "soulmate, cosine_similarity = Movie_Soul_Mate(\"Yunong Tian\")\n",
    "assert soulmate == 'Yuchen'\n",
    "assert round(cosine_similarity, 2) == 0.81"
   ]
  },
  {
   "cell_type": "markdown",
   "metadata": {
    "deletable": false,
    "editable": false,
    "nbgrader": {
     "cell_type": "markdown",
     "checksum": "42d470b8da542f71b8ee3feeba2a4e68",
     "grade": false,
     "grade_id": "cell-24a7ad265095a452",
     "locked": true,
     "schema_version": 3,
     "solution": false,
     "task": false
    }
   },
   "source": [
    "## 2.3 Memory-based Collaborative Filtering Recommendation\n",
    "\n",
    "Now after finding a person's movie soulmate, we can then construct a (very preliminary) collaborative filtering recommendation. In our recommendation system, for a focal person, we first find his or her soul mate. We then find all the movies that he/she has not watched but the soul mate has watched and liked. Among all of these movies, we recommend the movie with the highest popularity ranks defined in Step 1.1 and 1.2. \n",
    "\n",
    "\n",
    "Again, \n",
    "\n",
    "if the user name does not exit, this function should return \"Invalid user.\"\n",
    "\n",
    "If the person has watched all the movies, return \"Unfortunately, no new movies for you.\" \n",
    "\n",
    "If there is no movies watched and liked by the soulmate but not watched by the focal person, then return the movie (or string) that should be returned in Step 1.2.\n"
   ]
  },
  {
   "cell_type": "code",
   "execution_count": 23,
   "metadata": {
    "deletable": false,
    "nbgrader": {
     "cell_type": "code",
     "checksum": "7148692ab77ee129d40e417f242bff49",
     "grade": false,
     "grade_id": "cell-48fc508fee5f75a5",
     "locked": false,
     "schema_version": 3,
     "solution": true,
     "task": false
    }
   },
   "outputs": [],
   "source": [
    "def Recommendation2(name):\n",
    "    recommended_movie = \"\"\n",
    "    \n",
    "    if name in preference.keys():\n",
    "        soulmate=Movie_Soul_Mate(name)[0]\n",
    "        #print(Movie_Soul_Mate(name)[0])\n",
    "        info_target=preference[name]\n",
    "        info_soulmate=preference[soulmate]\n",
    "\n",
    "        dict_infos={}\n",
    "        for i in range(len(info_target)):\n",
    "            dict_infos[movies[i]]=[info_target[i],info_soulmate[i]]\n",
    "        dict_not_watched={}\n",
    "        for movie in dict_infos.keys():\n",
    "            if dict_infos[movie][0]==0 and dict_infos[movie][1]!=0:\n",
    "                dict_not_watched[movie]=[0,dict_infos[movie][1]]\n",
    "\n",
    "        for movie in movie_popularity_rank:\n",
    "            if movie in dict_not_watched.keys() and dict_not_watched[movie][1]==1:\n",
    "                recommended_movie=movie\n",
    "                break\n",
    "            else:\n",
    "                recommended_movie=Recommendation(name)\n",
    "    else:\n",
    "        return \"Invalid user.\"\n",
    "    \n",
    "    return recommended_movie\n"
   ]
  },
  {
   "cell_type": "code",
   "execution_count": 138,
   "metadata": {},
   "outputs": [
    {
     "name": "stdout",
     "output_type": "stream",
     "text": [
      "Michael Treiber\n",
      "The Shawshank Redemption\n"
     ]
    }
   ],
   "source": [
    "name=\"Test Student Long Name\"\n",
    "recommended_movie = \"\"\n",
    "\n",
    "if name in preference.keys():\n",
    "    soulmate=Movie_Soul_Mate(name)[0]\n",
    "    #print(Movie_Soul_Mate(name)[0])\n",
    "    info_target=preference[name]\n",
    "    info_soulmate=preference[soulmate]\n",
    "    \n",
    "    dict_infos={}\n",
    "    for i in range(len(info_target)):\n",
    "        dict_infos[movies[i]]=[info_target[i],info_soulmate[i]]\n",
    "    dict_not_watched={}\n",
    "    for movie in dict_infos.keys():\n",
    "        if dict_infos[movie][0]==0 and dict_infos[movie][1]!=0:\n",
    "            dict_not_watched[movie]=[0,dict_infos[movie][1]]\n",
    "    \n",
    "    for movie in movie_popularity_rank:\n",
    "        if movie in dict_not_watched.keys() and dict_not_watched[movie][1]==1:\n",
    "            recommended_movie=movie\n",
    "            break\n",
    "        else:\n",
    "            recommended_movie=Recommendation(name)\n",
    "else:\n",
    "    return \"Invalid user.\"\n"
   ]
  },
  {
   "cell_type": "code",
   "execution_count": 24,
   "metadata": {
    "deletable": false,
    "editable": false,
    "nbgrader": {
     "cell_type": "code",
     "checksum": "a4318217810e02c151805719d92b51db",
     "grade": true,
     "grade_id": "cell-128ba93274b3f85f",
     "locked": true,
     "points": 5,
     "schema_version": 3,
     "solution": false,
     "task": false
    }
   },
   "outputs": [],
   "source": [
    "assert Recommendation2(\"Test Student\") == 'Inception'\n",
    "assert Recommendation2(\"Test Student Long Name\") == 'The Shawshank Redemption'"
   ]
  },
  {
   "cell_type": "code",
   "execution_count": 25,
   "metadata": {
    "deletable": false,
    "editable": false,
    "nbgrader": {
     "cell_type": "code",
     "checksum": "1fcb6cdf01000fe672af0481fe4a2280",
     "grade": true,
     "grade_id": "cell-8490b270b1ff1927",
     "locked": true,
     "points": 10,
     "schema_version": 3,
     "solution": false,
     "task": false
    }
   },
   "outputs": [],
   "source": [
    "assert Recommendation2(\"Test Student Long Name\") == 'The Shawshank Redemption'"
   ]
  }
 ],
 "metadata": {
  "kernelspec": {
   "display_name": "Python 3",
   "language": "python",
   "name": "python3"
  },
  "language_info": {
   "codemirror_mode": {
    "name": "ipython",
    "version": 3
   },
   "file_extension": ".py",
   "mimetype": "text/x-python",
   "name": "python",
   "nbconvert_exporter": "python",
   "pygments_lexer": "ipython3",
   "version": "3.8.3"
  }
 },
 "nbformat": 4,
 "nbformat_minor": 2
}
