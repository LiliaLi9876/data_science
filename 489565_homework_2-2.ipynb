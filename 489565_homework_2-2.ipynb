{
 "cells": [
  {
   "cell_type": "markdown",
   "metadata": {
    "deletable": false,
    "editable": false,
    "nbgrader": {
     "cell_type": "markdown",
     "checksum": "7645528be3757dfd98497da75d81e912",
     "grade": false,
     "grade_id": "cell-1c14a1786a26dc5a",
     "locked": true,
     "schema_version": 3,
     "solution": false
    }
   },
   "source": [
    "# Homework 2\n",
    "\n",
    "\n",
    "## Problem 1 (Dictionary and String Methods):\n",
    "\n",
    "You have a list of strings which contain student record. Each string contains the student's name, and their grades in Maths, Physics and Chemistry. The grades can be **floating values**. These values (names and grades) are separated by comma. You are required to save the record in a dictionary data type. The user then enters a student's name. Output the average percentage marks obtained by that student, correct to two decimal places.\n",
    "\n",
    "Example:\n",
    "\n",
    "    input:\n",
    "        grades = [\"Jake, 99, 70, 50\", \"Dennis, 100, 100, 98\"]\n",
    "        name = \"Dennis\"\n",
    "    output: \"The average grade of Dennis is 99.33\""
   ]
  },
  {
   "cell_type": "code",
   "execution_count": 2,
   "metadata": {
    "deletable": false,
    "nbgrader": {
     "cell_type": "code",
     "checksum": "6f1cffbcd07554cd2f967be27554c129",
     "grade": false,
     "grade_id": "cell-562beecb93f03f23",
     "locked": false,
     "schema_version": 3,
     "solution": true
    }
   },
   "outputs": [
    {
     "data": {
      "text/plain": [
       "'The average grade of Jake is 74.33'"
      ]
     },
     "execution_count": 2,
     "metadata": {},
     "output_type": "execute_result"
    }
   ],
   "source": [
    "def problem2(grades, name):\n",
    "    output = \"\"\n",
    "    Dict = {}\n",
    "    for item in grades:\n",
    "        item_new = item.split(', ')\n",
    "        names = item_new[0]\n",
    "        grade = item_new[1:]\n",
    "        grade_int = [int(num) for num in grade]\n",
    "        Dict[names] = round(sum(grade_int)/len(grade_int),2)\n",
    "        \n",
    "    avg_grade = Dict.get(name)\n",
    "    output = \"The average grade of %s is %.2f\" %(name,avg_grade)\n",
    "    return(output)\n"
   ]
  },
  {
   "cell_type": "code",
   "execution_count": 36,
   "metadata": {
    "deletable": false,
    "editable": false,
    "nbgrader": {
     "cell_type": "code",
     "checksum": "0e6cdef8dab830f05bae8e33f2f84119",
     "grade": true,
     "grade_id": "cell-681343a4d7e22bbd",
     "locked": true,
     "points": 15,
     "schema_version": 3,
     "solution": false
    }
   },
   "outputs": [],
   "source": [
    "grades = [\"Jake, 99, 70, 54\", \"Dennis, 100, 100, 98\"]\n",
    "name = \"Dennis\"\n",
    "assert problem2(grades, \"Dennis\") == \"The average grade of Dennis is 99.33\""
   ]
  },
  {
   "cell_type": "code",
   "execution_count": 37,
   "metadata": {
    "deletable": false,
    "editable": false,
    "nbgrader": {
     "cell_type": "code",
     "checksum": "584d1501b0de2dbd8c7a3ab04834e31a",
     "grade": true,
     "grade_id": "cell-402bf89f76c4bd42",
     "locked": true,
     "points": 15,
     "schema_version": 3,
     "solution": false
    }
   },
   "outputs": [],
   "source": [
    "grades = [\"Jake, 99, 70, 55\", \"Dennis, 100, 100, 98\"]\n",
    "name = \"Jake\"\n",
    "assert problem2(grades, \"Jake\") == \"The average grade of Jake is 74.67\""
   ]
  },
  {
   "cell_type": "markdown",
   "metadata": {
    "deletable": false,
    "editable": false,
    "nbgrader": {
     "cell_type": "markdown",
     "checksum": "6a230cb09f6729d3beab1bec761bf5b8",
     "grade": false,
     "grade_id": "cell-011f6d6fa49cca37",
     "locked": true,
     "schema_version": 3,
     "solution": false
    }
   },
   "source": [
    "## Problem 2 (List Methods):\n",
    "\n",
    "You are given N positive numbers. Store them in a list and find the second largest number.\n",
    "(If there are two largest numbers, the second largest number must be smaller than both of them)\n",
    "\n",
    "Example:\n",
    "\n",
    "    input: int_list = [1,3,1,4,4,2]\n",
    "    ouput: 3"
   ]
  },
  {
   "cell_type": "code",
   "execution_count": 5,
   "metadata": {
    "deletable": false,
    "nbgrader": {
     "cell_type": "code",
     "checksum": "5b3f15a3d4e7a4fc2b7ef7a56b26a841",
     "grade": false,
     "grade_id": "cell-90ba74290831cf3b",
     "locked": false,
     "schema_version": 3,
     "solution": true
    }
   },
   "outputs": [],
   "source": [
    "#Write your code here:\n",
    "def problem3(int_list):\n",
    "    second_largest = 0\n",
    "    int_list.sort(reverse=True)\n",
    "    \n",
    "    largest = int_list[0]\n",
    "    for i in range(len(int_list)):\n",
    "        if int_list[i] < largest:\n",
    "            second_largest = int_list[i]\n",
    "            #print(second_largest)\n",
    "            break\n",
    "    return(second_largest)"
   ]
  },
  {
   "cell_type": "code",
   "execution_count": 26,
   "metadata": {
    "deletable": false,
    "editable": false,
    "nbgrader": {
     "cell_type": "code",
     "checksum": "326f595852fce58785a2f0bfa537c611",
     "grade": true,
     "grade_id": "cell-f14a368424f5d8fc",
     "locked": true,
     "points": 15,
     "schema_version": 3,
     "solution": false
    }
   },
   "outputs": [],
   "source": [
    "assert problem3([1,3,1,4,4,2]) == 3"
   ]
  },
  {
   "cell_type": "code",
   "execution_count": 27,
   "metadata": {
    "deletable": false,
    "editable": false,
    "nbgrader": {
     "cell_type": "code",
     "checksum": "324b32b094054d8d10aa414bb182b6b5",
     "grade": true,
     "grade_id": "cell-b28263287d112648",
     "locked": true,
     "points": 15,
     "schema_version": 3,
     "solution": false
    }
   },
   "outputs": [],
   "source": [
    "assert problem3([1,2,3]) == 2"
   ]
  },
  {
   "cell_type": "markdown",
   "metadata": {
    "deletable": false,
    "editable": false,
    "nbgrader": {
     "cell_type": "markdown",
     "checksum": "7e7fe481e112d9065538a9446581cf86",
     "grade": false,
     "grade_id": "cell-7263d45cf59f7c58",
     "locked": true,
     "schema_version": 3,
     "solution": false
    }
   },
   "source": [
    "## Problem 3 (All-in-one: list + string + file read):\n",
    "\n",
    "We downloaded several stock's daily level data for you in ./data/hw2_data/stock_data/. You will write code that takes stock tickers as inputs and output one dictinoary. The dictionary uses the stock tickers as keys and the values are these stocks' average open prices in 2017 (until the end of the file).\n",
    "\n",
    "Exmaple:\n",
    "\n",
    "    input: tickers = [\"AAPL\"]\n",
    "    output: {'AAPL': 143.465799260355}\n"
   ]
  },
  {
   "cell_type": "code",
   "execution_count": 1,
   "metadata": {
    "deletable": false,
    "nbgrader": {
     "cell_type": "code",
     "checksum": "80de04bea9ef1411cc58b81e8bcd7fcb",
     "grade": false,
     "grade_id": "cell-25ac6e4633eae166",
     "locked": false,
     "schema_version": 3,
     "solution": true
    }
   },
   "outputs": [],
   "source": [
    "def problem4(tickers):\n",
    "    import os\n",
    "    file_location = \"./data/stock_data/\"\n",
    "    files = os.listdir(file_location)\n",
    "    all_dict = {}\n",
    "    return_dict = {}\n",
    "    \n",
    "    for file in files:\n",
    "        ticker = file.strip(\".csv\")\n",
    "        stock_info = open(\"./data/stock_data/\"+file)\n",
    "        lines=stock_info.readlines()\n",
    "        opens = []\n",
    "        for line in lines[1:]:\n",
    "            daily_info = line.strip(\"\\n\").split(\",\")\n",
    "            daily_open = eval(daily_info[2])\n",
    "            opens.append(daily_open)\n",
    "        avg_opens = sum(opens)/len(opens)\n",
    "        all_dict[ticker] = avg_opens\n",
    "    for ticker in tickers:\n",
    "        return_dict[ticker] = all_dict[ticker]  \n",
    "        \n",
    "    return(return_dict)\n",
    "\n"
   ]
  },
  {
   "cell_type": "code",
   "execution_count": 2,
   "metadata": {
    "deletable": false,
    "editable": false,
    "nbgrader": {
     "cell_type": "code",
     "checksum": "4cc9f65361225d806b6d867d899e0192",
     "grade": true,
     "grade_id": "cell-f824aae0b179bccb",
     "locked": true,
     "points": 20,
     "schema_version": 3,
     "solution": false
    }
   },
   "outputs": [],
   "source": [
    "assert problem4([\"AAPL\"]) == {'AAPL': 143.465799260355}"
   ]
  },
  {
   "cell_type": "code",
   "execution_count": 3,
   "metadata": {
    "deletable": false,
    "editable": false,
    "nbgrader": {
     "cell_type": "code",
     "checksum": "337ab424b6b00b390631ee0f81f46290",
     "grade": true,
     "grade_id": "cell-49c8a58cfdfc3878",
     "locked": true,
     "points": 20,
     "schema_version": 3,
     "solution": false
    }
   },
   "outputs": [],
   "source": [
    "assert problem4([\"AAPL\", \"GOOG\"]) == {'AAPL': 143.465799260355, 'GOOG': 884.3826611893493}"
   ]
  }
 ],
 "metadata": {
  "kernelspec": {
   "display_name": "Python 3",
   "language": "python",
   "name": "python3"
  },
  "language_info": {
   "codemirror_mode": {
    "name": "ipython",
    "version": 3
   },
   "file_extension": ".py",
   "mimetype": "text/x-python",
   "name": "python",
   "nbconvert_exporter": "python",
   "pygments_lexer": "ipython3",
   "version": "3.8.8"
  },
  "toc": {
   "colors": {
    "hover_highlight": "#DAA520",
    "navigate_num": "#000000",
    "navigate_text": "#333333",
    "running_highlight": "#FF0000",
    "selected_highlight": "#FFD700",
    "sidebar_border": "#EEEEEE",
    "wrapper_background": "#FFFFFF"
   },
   "moveMenuLeft": true,
   "nav_menu": {
    "height": "30px",
    "width": "252px"
   },
   "navigate_menu": true,
   "number_sections": true,
   "sideBar": true,
   "skip_h1_title": false,
   "threshold": 4,
   "toc_cell": false,
   "toc_position": {},
   "toc_section_display": "block",
   "toc_window_display": false,
   "widenNotebook": false
  }
 },
 "nbformat": 4,
 "nbformat_minor": 2
}
